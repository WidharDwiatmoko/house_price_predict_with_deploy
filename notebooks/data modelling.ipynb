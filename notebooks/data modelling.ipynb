{
 "cells": [
  {
   "cell_type": "code",
   "execution_count": 1,
   "id": "9129aab5",
   "metadata": {},
   "outputs": [],
   "source": [
    "import sys\n",
    "sys.path.append(\"../src\")"
   ]
  },
  {
   "cell_type": "code",
   "execution_count": 2,
   "id": "2790a34f",
   "metadata": {},
   "outputs": [],
   "source": [
    "from sklearn.model_selection import train_test_split, cross_val_score, cross_val_predict\n",
    "\n",
    "## sklearn -- metrics\n",
    "from sklearn.metrics import mean_squared_error, r2_score\n",
    "\n",
    "## sklearn -- Models\n",
    "from sklearn.linear_model import LinearRegression, SGDRegressor, Ridge, Lasso, ElasticNet\n",
    "from sklearn.neighbors import KNeighborsRegressor\n",
    "from sklearn.ensemble import RandomForestRegressor, VotingRegressor\n",
    "\n",
    "## Xgboost\n",
    "from xgboost import XGBRegressor\n",
    "\n",
    "from sklearn.model_selection import RandomizedSearchCV, GridSearchCV\n",
    "\n",
    "import joblib\n",
    "import numpy as np\n",
    "import json\n",
    "import pandas as pd\n",
    "import copy\n",
    "import hashlib\n",
    "import matplotlib.pyplot as plt\n",
    "\n",
    "import util as util"
   ]
  },
  {
   "cell_type": "markdown",
   "id": "84c1b1e9",
   "metadata": {},
   "source": [
    "## Load Config File"
   ]
  },
  {
   "cell_type": "code",
   "execution_count": 3,
   "id": "8f95d01c",
   "metadata": {},
   "outputs": [],
   "source": [
    "params = util.load_config()"
   ]
  },
  {
   "cell_type": "code",
   "execution_count": 4,
   "id": "ff9dfb61",
   "metadata": {},
   "outputs": [],
   "source": [
    "def load_train_feng(params: dict) -> pd.DataFrame:\n",
    "    # Load train set\n",
    "    x_train = util.pickle_load(params[\"train_feng_set_path\"][0])\n",
    "    y_train = util.pickle_load(params[\"train_feng_set_path\"][1])\n",
    "\n",
    "    return x_train, y_train\n",
    "\n",
    "\n",
    "def load_test_feng(params: dict) -> pd.DataFrame:\n",
    "    # Load test set\n",
    "    x_test = util.pickle_load(params[\"test_feng_set_path\"][0])\n",
    "    y_test = util.pickle_load(params[\"test_feng_set_path\"][1])\n",
    "\n",
    "    return x_test, y_test\n"
   ]
  },
  {
   "cell_type": "code",
   "execution_count": 5,
   "id": "829c1bf3",
   "metadata": {},
   "outputs": [],
   "source": [
    "def load_dataset(params: dict) -> pd.DataFrame:\n",
    "    # Debug message\n",
    "    util.print_debug(\"Loading dataset.\")\n",
    "\n",
    "    # Load train set\n",
    "    x_train, y_train = load_train_feng(params)\n",
    "\n",
    "    # Load test set\n",
    "    x_test, y_test = load_test_feng(params)\n",
    "\n",
    "    # Debug message\n",
    "    util.print_debug(\"Dataset loaded.\")\n",
    "\n",
    "    # Return the dataset\n",
    "    return x_train, y_train, x_test, y_test\n"
   ]
  },
  {
   "cell_type": "code",
   "execution_count": 6,
   "id": "af864a6b",
   "metadata": {},
   "outputs": [
    {
     "name": "stdout",
     "output_type": "stream",
     "text": [
      "2023-04-18 04:49:06.437914 Loading dataset.\n",
      "2023-04-18 04:49:06.468321 Dataset loaded.\n"
     ]
    }
   ],
   "source": [
    "x_train, y_train, x_test, y_test = load_dataset(params)"
   ]
  },
  {
   "cell_type": "markdown",
   "id": "cdf21535",
   "metadata": {},
   "source": [
    "Evaluation Metric: **RMSE**\n"
   ]
  },
  {
   "cell_type": "code",
   "execution_count": 7,
   "id": "6eed74e5",
   "metadata": {},
   "outputs": [
    {
     "data": {
      "text/plain": [
       "17543.999999999996"
      ]
     },
     "execution_count": 7,
     "metadata": {},
     "output_type": "execute_result"
    }
   ],
   "source": [
    "x_train.sum()"
   ]
  },
  {
   "cell_type": "code",
   "execution_count": 8,
   "id": "737ffd2d",
   "metadata": {},
   "outputs": [
    {
     "data": {
      "text/plain": [
       "4602     275000.0\n",
       "6978     238500.0\n",
       "16415    158300.0\n",
       "2549      70500.0\n",
       "11025    222300.0\n",
       "           ...   \n",
       "11284    229200.0\n",
       "11964     97800.0\n",
       "5390     222100.0\n",
       "860      283500.0\n",
       "15795    325000.0\n",
       "Name: median_house_value, Length: 17544, dtype: float64"
      ]
     },
     "execution_count": 8,
     "metadata": {},
     "output_type": "execute_result"
    }
   ],
   "source": [
    "y_train"
   ]
  },
  {
   "cell_type": "markdown",
   "id": "3e5b16d7",
   "metadata": {},
   "source": [
    "## LinearRegression"
   ]
  },
  {
   "cell_type": "code",
   "execution_count": 9,
   "id": "6f960ee2",
   "metadata": {},
   "outputs": [
    {
     "data": {
      "text/plain": [
       "LinearRegression()"
      ]
     },
     "execution_count": 9,
     "metadata": {},
     "output_type": "execute_result"
    }
   ],
   "source": [
    "lin_reg = LinearRegression()\n",
    "lin_reg.fit(x_train, y_train)  ## train"
   ]
  },
  {
   "cell_type": "code",
   "execution_count": 10,
   "id": "fb331a15",
   "metadata": {},
   "outputs": [
    {
     "name": "stdout",
     "output_type": "stream",
     "text": [
      "RMSE Scores Using LinearRegression --- [66469.8275 69222.723  66338.7127 67047.6716 70321.7781]\n",
      "Mean of RMSE Scores Using LinearRegression --- 67880.1426\n",
      "************************************************************************************************************************\n",
      "RMSE after prediction Using LinearRegression --- 67898.8887\n"
     ]
    }
   ],
   "source": [
    "## Check scores of this Model (RMSE) using (cross_val_score)\n",
    "rmse_scores_lin = cross_val_score(estimator=lin_reg, X=x_train, y=y_train, cv=5, scoring='neg_mean_squared_error', n_jobs=-1)  ## sklearn deals with error as negative\n",
    "rmse_scores_lin = -1 * rmse_scores_lin   ## we want it positive\n",
    "rmse_scores_lin = np.sqrt(rmse_scores_lin)\n",
    "print(f'RMSE Scores Using LinearRegression --- {np.round(rmse_scores_lin, 4)}')\n",
    "print(f'Mean of RMSE Scores Using LinearRegression --- {rmse_scores_lin.mean():.4f}')\n",
    "\n",
    "print('****'*30)\n",
    "\n",
    "## Get Prediction using (cross_val_predict)\n",
    "y_pred_lin = cross_val_predict(estimator=lin_reg, X=x_train, y=y_train, cv=5, method='predict', n_jobs=-1)\n",
    "## You can check the (RMSE) using what model predicts and compare it with the Mean of above result -- almost the same\n",
    "## take care of this point --> don't use .predict when you are using (crossValidation)\n",
    "rmse_pred_lin = np.sqrt(mean_squared_error(y_train, y_pred_lin))\n",
    "print(f'RMSE after prediction Using LinearRegression --- {rmse_pred_lin:.4f}')  ## almost the same result :D\n"
   ]
  },
  {
   "cell_type": "markdown",
   "id": "a1f95926",
   "metadata": {},
   "source": [
    "### `2. Ridge`\n",
    "`Regression using Ordinary Least Squares, but regularized version of LinearRegression using (L2-Norm)`"
   ]
  },
  {
   "cell_type": "code",
   "execution_count": 11,
   "id": "89666979",
   "metadata": {},
   "outputs": [
    {
     "data": {
      "text/plain": [
       "Ridge(alpha=0.9, solver='cholesky')"
      ]
     },
     "execution_count": 11,
     "metadata": {},
     "output_type": "execute_result"
    }
   ],
   "source": [
    "## Define Ridge Model (Regularized Version of LinearRegression)\n",
    "ridge_reg = Ridge(alpha=0.9, solver='cholesky')\n",
    "ridge_reg.fit(x_train, y_train)  ## train the model"
   ]
  },
  {
   "cell_type": "code",
   "execution_count": 12,
   "id": "934d8f4d",
   "metadata": {},
   "outputs": [
    {
     "name": "stdout",
     "output_type": "stream",
     "text": [
      "RMSE Scores Using Ridge --- [66472.689  69222.7453 66350.7247 67031.9174 70323.0198]\n",
      "Mean of RMSE Scores Using Ridge --- 67880.2192\n",
      "************************************************************************************************************************\n",
      "RMSE after prediction Using Ridge --- 67898.9471\n"
     ]
    }
   ],
   "source": [
    "## Check scores of this Model (RMSE) using (cross_val_score)\n",
    "rmse_scores_ridge = cross_val_score(estimator=ridge_reg, X=x_train, y=y_train, \n",
    "                               cv=5, scoring='neg_mean_squared_error', n_jobs=-1)  ## sklearn deals with error as negative\n",
    "rmse_scores_ridge = -1 * rmse_scores_ridge   ## we want it positive\n",
    "rmse_scores_ridge = np.sqrt(rmse_scores_ridge)\n",
    "print(f'RMSE Scores Using Ridge --- {np.round(rmse_scores_ridge, 4)}')\n",
    "print(f'Mean of RMSE Scores Using Ridge --- {rmse_scores_ridge.mean():.4f}')\n",
    "\n",
    "print('****'*30)\n",
    "\n",
    "## Get Prediction using (cross_val_predict)\n",
    "y_pred_ridge = cross_val_predict(estimator=ridge_reg, X=x_train, y=y_train, cv=5, method='predict', n_jobs=-1)\n",
    "## You can check the (RMSE) using what model predicts and compare it with the Mean of above result -- almost the same\n",
    "## take care of this point --> don't use .predict when you are using (crossValidation)\n",
    "rmse_pred_ridge = np.sqrt(mean_squared_error(y_train, y_pred_ridge))\n",
    "print(f'RMSE after prediction Using Ridge --- {rmse_pred_ridge:.4f}')  ## almost the same result :D"
   ]
  },
  {
   "cell_type": "markdown",
   "id": "3aac6991",
   "metadata": {},
   "source": [
    "### `3. Lasso`\n",
    "\n",
    "`Regression using Ordinary Least Squares, but regularized version of LinearRegression using (L1-Norm)`"
   ]
  },
  {
   "cell_type": "code",
   "execution_count": 13,
   "id": "9f6636b7",
   "metadata": {},
   "outputs": [
    {
     "data": {
      "text/plain": [
       "Lasso(alpha=1, max_iter=100000)"
      ]
     },
     "execution_count": 13,
     "metadata": {},
     "output_type": "execute_result"
    }
   ],
   "source": [
    "## Define Lasso Model (Regularized Version of LinearRegression)\n",
    "lasso_reg = Lasso(alpha=1, max_iter=100000)\n",
    "lasso_reg.fit(x_train, y_train)  ## train the model   and try predictions in the same way"
   ]
  },
  {
   "cell_type": "code",
   "execution_count": 14,
   "id": "be2e5a02",
   "metadata": {},
   "outputs": [
    {
     "data": {
      "text/plain": [
       "array([-56166.28650229, -56466.30701119,  13864.90232431,   6112.77503543,\n",
       "         8937.16731622, -46626.84295639,  36609.7003318 ,  79167.88726091,\n",
       "         6350.89510096,  16578.08308073,    700.82893968,      0.        ,\n",
       "       -34479.90501045, 143036.55857523,  -5501.79735044,   3698.19799083])"
      ]
     },
     "execution_count": 14,
     "metadata": {},
     "output_type": "execute_result"
    }
   ],
   "source": [
    "## check the weights using Lasso, and Ridge --- Lasso is a Features Selection Model ? why?\n",
    "lasso_reg.coef_"
   ]
  },
  {
   "cell_type": "markdown",
   "id": "f010c9e7",
   "metadata": {},
   "source": [
    "### `4. KNN`"
   ]
  },
  {
   "cell_type": "code",
   "execution_count": 15,
   "id": "af78ac54",
   "metadata": {},
   "outputs": [
    {
     "data": {
      "text/plain": [
       "KNeighborsRegressor(n_neighbors=8)"
      ]
     },
     "execution_count": 15,
     "metadata": {},
     "output_type": "execute_result"
    }
   ],
   "source": [
    "## Using KNN, Low n_neighbors -> Overfitting &  High n_neighbors ->  Underfitting\n",
    "knn_reg = KNeighborsRegressor(n_neighbors=8, p=2,  metric='minkowski', weights='uniform')\n",
    "knn_reg.fit(x_train, y_train)  ## train the model"
   ]
  },
  {
   "cell_type": "code",
   "execution_count": 16,
   "id": "0434bc60",
   "metadata": {},
   "outputs": [
    {
     "name": "stdout",
     "output_type": "stream",
     "text": [
      "RMSE Scores Using KNN --- [60978.9699 61687.7848 60277.5273 59442.3636 62191.8308]\n",
      "Mean of RMSE Scores Using KNN --- 60915.6953\n",
      "************************************************************************************************************************\n",
      "RMSE after prediction Using KNN --- 60923.5123\n"
     ]
    }
   ],
   "source": [
    "## Check scores of this Model (RMSE) using (cross_val_score)\n",
    "rmse_scores_knn = cross_val_score(estimator=knn_reg, X=x_train, y=y_train, \n",
    "                               cv=5, scoring='neg_mean_squared_error', n_jobs=-1)  ## sklearn deals with error as negative\n",
    "rmse_scores_knn = -1 * rmse_scores_knn   ## we want it positive\n",
    "rmse_scores_knn = np.sqrt(rmse_scores_knn)\n",
    "print(f'RMSE Scores Using KNN --- {np.round(rmse_scores_knn, 4)}')\n",
    "print(f'Mean of RMSE Scores Using KNN --- {rmse_scores_knn.mean():.4f}')\n",
    "\n",
    "print('****'*30)\n",
    "\n",
    "## Get Prediction using (cross_val_predict)\n",
    "y_pred_knn = cross_val_predict(estimator=knn_reg, X=x_train, y=y_train, cv=5, method='predict', n_jobs=-1)\n",
    "## You can check the (RMSE) using what model predicts and compare it with the Mean of above result -- almost the same\n",
    "## take care of this point --> don't use .predict when you are using (crossValidation)\n",
    "rmse_pred_knn = np.sqrt(mean_squared_error(y_train, y_pred_knn))\n",
    "print(f'RMSE after prediction Using KNN --- {rmse_pred_knn:.4f}')  ## almost the same result :D"
   ]
  },
  {
   "cell_type": "markdown",
   "id": "00ab621e",
   "metadata": {},
   "source": [
    "### `5. RandomForest`"
   ]
  },
  {
   "cell_type": "code",
   "execution_count": 17,
   "id": "d230d0b9",
   "metadata": {},
   "outputs": [
    {
     "data": {
      "text/plain": [
       "RandomForestRegressor(max_depth=6, max_samples=0.8, n_estimators=150, n_jobs=-1,\n",
       "                      random_state=42)"
      ]
     },
     "execution_count": 17,
     "metadata": {},
     "output_type": "execute_result"
    }
   ],
   "source": [
    "## Using RF ---> A lot of Hyperparams but the Dominant (n_estimators, max_depth)\n",
    "forest_reg = RandomForestRegressor(n_estimators=150, max_depth=6, max_samples=0.8, random_state=42, n_jobs=-1)\n",
    "forest_reg.fit(x_train, y_train)  ## train"
   ]
  },
  {
   "cell_type": "code",
   "execution_count": 18,
   "id": "eebeb649",
   "metadata": {},
   "outputs": [
    {
     "name": "stdout",
     "output_type": "stream",
     "text": [
      "RMSE Scores Using RandomForest --- [58925.9674 61130.1728 60472.2879 58330.2278 60989.7339]\n",
      "Mean of RMSE Scores Using RandomForest --- 59969.6780\n",
      "************************************************************************************************************************\n",
      "RMSE after prediction Using RandomForest --- 59980.3194\n"
     ]
    }
   ],
   "source": [
    "## Check scores of this Model (RMSE) using (cross_val_score)\n",
    "rmse_scores_forest = cross_val_score(estimator=forest_reg, X=x_train, y=y_train, \n",
    "                               cv=5, scoring='neg_mean_squared_error', n_jobs=-1)  ## sklearn deals with error as negative\n",
    "rmse_scores_forest = -1 * rmse_scores_forest   ## we want it positive\n",
    "rmse_scores_forest = np.sqrt(rmse_scores_forest)\n",
    "print(f'RMSE Scores Using RandomForest --- {np.round(rmse_scores_forest, 4)}')\n",
    "print(f'Mean of RMSE Scores Using RandomForest --- {rmse_scores_forest.mean():.4f}')\n",
    "\n",
    "print('****'*30)\n",
    "\n",
    "## Get Prediction using (cross_val_predict)\n",
    "y_pred_forest = cross_val_predict(estimator=forest_reg, X=x_train, y=y_train, cv=5, method='predict', n_jobs=-1)\n",
    "## You can check the (RMSE) using what model predicts and compare it with the Mean of above result -- almost the same\n",
    "## take care of this point --> don't use .predict when you are using (crossValidation)\n",
    "rmse_pred_forest = np.sqrt(mean_squared_error(y_train, y_pred_forest))\n",
    "print(f'RMSE after prediction Using RandomForest --- {rmse_pred_forest:.4f}')  ## almost the same result :D"
   ]
  },
  {
   "cell_type": "markdown",
   "id": "752e2784",
   "metadata": {},
   "source": [
    "`Since RMSE from Random Forest indicate better fit from the rest of the training model, we should do tuning RF model`"
   ]
  },
  {
   "cell_type": "markdown",
   "id": "f6198a54",
   "metadata": {},
   "source": [
    "### `RF Tuning`"
   ]
  },
  {
   "cell_type": "code",
   "execution_count": 19,
   "id": "b5fa466b",
   "metadata": {},
   "outputs": [
    {
     "name": "stdout",
     "output_type": "stream",
     "text": [
      "Fitting 5 folds for each of 20 candidates, totalling 100 fits\n",
      "[CV 1/5] END max_depth=18, max_samples=0.7, n_estimators=150;, score=-2391187635.752 total time=  10.2s\n",
      "[CV 2/5] END max_depth=18, max_samples=0.7, n_estimators=150;, score=-2781205995.392 total time=   8.6s\n",
      "[CV 3/5] END max_depth=18, max_samples=0.7, n_estimators=150;, score=-2645155556.888 total time=   8.2s\n",
      "[CV 4/5] END max_depth=18, max_samples=0.7, n_estimators=150;, score=-2418477575.713 total time=  10.5s\n",
      "[CV 5/5] END max_depth=18, max_samples=0.7, n_estimators=150;, score=-2556063413.546 total time=   7.8s\n",
      "[CV 1/5] END max_depth=12, max_samples=0.9, n_estimators=250;, score=-2492709737.035 total time=  11.1s\n",
      "[CV 2/5] END max_depth=12, max_samples=0.9, n_estimators=250;, score=-2884779798.841 total time=  10.8s\n",
      "[CV 3/5] END max_depth=12, max_samples=0.9, n_estimators=250;, score=-2755109200.857 total time=  10.4s\n",
      "[CV 4/5] END max_depth=12, max_samples=0.9, n_estimators=250;, score=-2509031588.719 total time=  10.6s\n",
      "[CV 5/5] END max_depth=12, max_samples=0.9, n_estimators=250;, score=-2675278522.861 total time=  11.2s\n",
      "[CV 1/5] END max_depth=4, max_samples=0.9, n_estimators=450;, score=-4363008374.205 total time=   8.1s\n",
      "[CV 2/5] END max_depth=4, max_samples=0.9, n_estimators=450;, score=-4613916736.835 total time=   7.7s\n",
      "[CV 3/5] END max_depth=4, max_samples=0.9, n_estimators=450;, score=-4556763022.533 total time=   7.9s\n",
      "[CV 4/5] END max_depth=4, max_samples=0.9, n_estimators=450;, score=-4364315612.634 total time=   8.3s\n",
      "[CV 5/5] END max_depth=4, max_samples=0.9, n_estimators=450;, score=-4678403786.823 total time=   7.9s\n",
      "[CV 1/5] END max_depth=16, max_samples=1, n_estimators=400;, score=-13235030133.940 total time=   0.7s\n",
      "[CV 2/5] END max_depth=16, max_samples=1, n_estimators=400;, score=-13543766619.466 total time=   0.7s\n",
      "[CV 3/5] END max_depth=16, max_samples=1, n_estimators=400;, score=-13459554148.446 total time=   0.7s\n",
      "[CV 4/5] END max_depth=16, max_samples=1, n_estimators=400;, score=-13130555847.484 total time=   0.6s\n",
      "[CV 5/5] END max_depth=16, max_samples=1, n_estimators=400;, score=-13441716793.631 total time=   0.7s\n",
      "[CV 1/5] END max_depth=4, max_samples=0.9, n_estimators=150;, score=-4369104287.157 total time=   2.8s\n",
      "[CV 2/5] END max_depth=4, max_samples=0.9, n_estimators=150;, score=-4627515160.799 total time=   2.7s\n",
      "[CV 3/5] END max_depth=4, max_samples=0.9, n_estimators=150;, score=-4554531856.083 total time=   2.8s\n",
      "[CV 4/5] END max_depth=4, max_samples=0.9, n_estimators=150;, score=-4363769878.594 total time=   2.6s\n",
      "[CV 5/5] END max_depth=4, max_samples=0.9, n_estimators=150;, score=-4679557133.015 total time=   2.7s\n",
      "[CV 1/5] END max_depth=18, max_samples=0.7, n_estimators=100;, score=-2386579381.341 total time=   4.7s\n",
      "[CV 2/5] END max_depth=18, max_samples=0.7, n_estimators=100;, score=-2781987065.939 total time=   5.0s\n",
      "[CV 3/5] END max_depth=18, max_samples=0.7, n_estimators=100;, score=-2651734605.069 total time=   4.6s\n",
      "[CV 4/5] END max_depth=18, max_samples=0.7, n_estimators=100;, score=-2432959698.551 total time=   4.6s\n",
      "[CV 5/5] END max_depth=18, max_samples=0.7, n_estimators=100;, score=-2576642653.776 total time=   4.6s\n",
      "[CV 1/5] END max_depth=4, max_samples=0.7, n_estimators=450;, score=-4333927645.128 total time=   6.7s\n",
      "[CV 2/5] END max_depth=4, max_samples=0.7, n_estimators=450;, score=-4594963382.731 total time=   6.9s\n",
      "[CV 3/5] END max_depth=4, max_samples=0.7, n_estimators=450;, score=-4515359111.917 total time=   9.2s\n",
      "[CV 4/5] END max_depth=4, max_samples=0.7, n_estimators=450;, score=-4340966380.925 total time=   9.4s\n",
      "[CV 5/5] END max_depth=4, max_samples=0.7, n_estimators=450;, score=-4644599357.248 total time=   9.1s\n",
      "[CV 1/5] END max_depth=14, max_samples=1, n_estimators=150;, score=-13234179920.512 total time=   0.5s\n",
      "[CV 2/5] END max_depth=14, max_samples=1, n_estimators=150;, score=-13544027083.430 total time=   0.5s\n",
      "[CV 3/5] END max_depth=14, max_samples=1, n_estimators=150;, score=-13473425905.865 total time=   0.6s\n",
      "[CV 4/5] END max_depth=14, max_samples=1, n_estimators=150;, score=-13133337480.604 total time=   0.5s\n",
      "[CV 5/5] END max_depth=14, max_samples=1, n_estimators=150;, score=-13489042553.576 total time=   0.5s\n",
      "[CV 1/5] END max_depth=14, max_samples=0.9, n_estimators=350;, score=-2411057478.561 total time=  21.5s\n",
      "[CV 2/5] END max_depth=14, max_samples=0.9, n_estimators=350;, score=-2799756565.145 total time=  21.5s\n",
      "[CV 3/5] END max_depth=14, max_samples=0.9, n_estimators=350;, score=-2669985448.147 total time=  22.9s\n",
      "[CV 4/5] END max_depth=14, max_samples=0.9, n_estimators=350;, score=-2430334811.773 total time=  22.5s\n",
      "[CV 5/5] END max_depth=14, max_samples=0.9, n_estimators=350;, score=-2594275369.811 total time=  23.0s\n",
      "[CV 1/5] END max_depth=4, max_samples=0.7, n_estimators=100;, score=-4343527206.188 total time=   2.1s\n",
      "[CV 2/5] END max_depth=4, max_samples=0.7, n_estimators=100;, score=-4595752290.717 total time=   2.1s\n",
      "[CV 3/5] END max_depth=4, max_samples=0.7, n_estimators=100;, score=-4511938260.598 total time=   2.1s\n",
      "[CV 4/5] END max_depth=4, max_samples=0.7, n_estimators=100;, score=-4354979168.539 total time=   2.6s\n",
      "[CV 5/5] END max_depth=4, max_samples=0.7, n_estimators=100;, score=-4659343484.143 total time=   2.1s\n",
      "[CV 1/5] END max_depth=14, max_samples=0.7, n_estimators=450;, score=-2432227950.467 total time=  24.4s\n",
      "[CV 2/5] END max_depth=14, max_samples=0.7, n_estimators=450;, score=-2797770234.010 total time=  25.7s\n",
      "[CV 3/5] END max_depth=14, max_samples=0.7, n_estimators=450;, score=-2683139741.340 total time=  24.8s\n",
      "[CV 4/5] END max_depth=14, max_samples=0.7, n_estimators=450;, score=-2463316882.146 total time=  23.7s\n",
      "[CV 5/5] END max_depth=14, max_samples=0.7, n_estimators=450;, score=-2594037667.072 total time=  24.7s\n",
      "[CV 1/5] END max_depth=18, max_samples=0.8, n_estimators=200;, score=-2386550988.838 total time=  14.5s\n",
      "[CV 2/5] END max_depth=18, max_samples=0.8, n_estimators=200;, score=-2736224491.151 total time=  13.7s\n",
      "[CV 3/5] END max_depth=18, max_samples=0.8, n_estimators=200;, score=-2638663968.563 total time=  14.1s\n",
      "[CV 4/5] END max_depth=18, max_samples=0.8, n_estimators=200;, score=-2403272976.739 total time=  13.5s\n",
      "[CV 5/5] END max_depth=18, max_samples=0.8, n_estimators=200;, score=-2534131573.546 total time=  13.7s\n",
      "[CV 1/5] END max_depth=18, max_samples=0.9, n_estimators=400;, score=-2357112767.424 total time=  28.5s\n",
      "[CV 2/5] END max_depth=18, max_samples=0.9, n_estimators=400;, score=-2733354599.049 total time=  29.9s\n",
      "[CV 3/5] END max_depth=18, max_samples=0.9, n_estimators=400;, score=-2626227076.347 total time=  29.7s\n",
      "[CV 4/5] END max_depth=18, max_samples=0.9, n_estimators=400;, score=-2384853708.286 total time=  29.0s\n",
      "[CV 5/5] END max_depth=18, max_samples=0.9, n_estimators=400;, score=-2525259384.231 total time=  42.2s\n",
      "[CV 1/5] END max_depth=6, max_samples=0.8, n_estimators=400;, score=-3464306962.174 total time=  15.2s\n",
      "[CV 2/5] END max_depth=6, max_samples=0.8, n_estimators=400;, score=-3739278910.384 total time=  13.4s\n",
      "[CV 3/5] END max_depth=6, max_samples=0.8, n_estimators=400;, score=-3665393056.026 total time=  14.0s\n",
      "[CV 4/5] END max_depth=6, max_samples=0.8, n_estimators=400;, score=-3406960840.695 total time=  15.8s\n",
      "[CV 5/5] END max_depth=6, max_samples=0.8, n_estimators=400;, score=-3709478190.579 total time=  13.6s\n",
      "[CV 1/5] END max_depth=16, max_samples=0.7, n_estimators=100;, score=-2398153528.453 total time=   6.4s\n",
      "[CV 2/5] END max_depth=16, max_samples=0.7, n_estimators=100;, score=-2795170399.678 total time=   6.3s\n",
      "[CV 3/5] END max_depth=16, max_samples=0.7, n_estimators=100;, score=-2671697466.346 total time=   6.3s\n",
      "[CV 4/5] END max_depth=16, max_samples=0.7, n_estimators=100;, score=-2440605687.250 total time=   6.2s\n",
      "[CV 5/5] END max_depth=16, max_samples=0.7, n_estimators=100;, score=-2584133904.908 total time=   6.4s\n",
      "[CV 1/5] END max_depth=4, max_samples=1, n_estimators=150;, score=-13234179920.512 total time=   0.6s\n",
      "[CV 2/5] END max_depth=4, max_samples=1, n_estimators=150;, score=-13544027083.430 total time=   0.5s\n",
      "[CV 3/5] END max_depth=4, max_samples=1, n_estimators=150;, score=-13473425905.865 total time=   0.6s\n",
      "[CV 4/5] END max_depth=4, max_samples=1, n_estimators=150;, score=-13133337480.604 total time=   0.5s\n"
     ]
    },
    {
     "name": "stdout",
     "output_type": "stream",
     "text": [
      "[CV 5/5] END max_depth=4, max_samples=1, n_estimators=150;, score=-13489042553.576 total time=   0.6s\n",
      "[CV 1/5] END max_depth=18, max_samples=0.7, n_estimators=350;, score=-2384896179.131 total time=  24.4s\n",
      "[CV 2/5] END max_depth=18, max_samples=0.7, n_estimators=350;, score=-2759362249.987 total time=  23.3s\n",
      "[CV 3/5] END max_depth=18, max_samples=0.7, n_estimators=350;, score=-2648709690.778 total time=  24.2s\n",
      "[CV 4/5] END max_depth=18, max_samples=0.7, n_estimators=350;, score=-2414566168.514 total time=  28.4s\n",
      "[CV 5/5] END max_depth=18, max_samples=0.7, n_estimators=350;, score=-2539287365.132 total time=  24.3s\n",
      "[CV 1/5] END max_depth=8, max_samples=0.8, n_estimators=300;, score=-2969350121.079 total time=  12.1s\n",
      "[CV 2/5] END max_depth=8, max_samples=0.8, n_estimators=300;, score=-3285813274.305 total time=  12.5s\n",
      "[CV 3/5] END max_depth=8, max_samples=0.8, n_estimators=300;, score=-3182203195.062 total time=  12.4s\n",
      "[CV 4/5] END max_depth=8, max_samples=0.8, n_estimators=300;, score=-2937062175.245 total time=  12.3s\n",
      "[CV 5/5] END max_depth=8, max_samples=0.8, n_estimators=300;, score=-3167555811.524 total time=  12.5s\n",
      "[CV 1/5] END max_depth=10, max_samples=0.9, n_estimators=200;, score=-2658938570.651 total time=  10.2s\n",
      "[CV 2/5] END max_depth=10, max_samples=0.9, n_estimators=200;, score=-3021868487.061 total time=  10.9s\n",
      "[CV 3/5] END max_depth=10, max_samples=0.9, n_estimators=200;, score=-2890791695.039 total time=  11.1s\n",
      "[CV 4/5] END max_depth=10, max_samples=0.9, n_estimators=200;, score=-2650967632.207 total time=  11.2s\n",
      "[CV 5/5] END max_depth=10, max_samples=0.9, n_estimators=200;, score=-2857451876.854 total time=  10.5s\n",
      "[CV 1/5] END max_depth=10, max_samples=0.9, n_estimators=250;, score=-2659975587.385 total time=  13.2s\n",
      "[CV 2/5] END max_depth=10, max_samples=0.9, n_estimators=250;, score=-3019444271.934 total time=  12.7s\n",
      "[CV 3/5] END max_depth=10, max_samples=0.9, n_estimators=250;, score=-2896584447.325 total time=  13.6s\n",
      "[CV 4/5] END max_depth=10, max_samples=0.9, n_estimators=250;, score=-2654284725.633 total time=  15.0s\n",
      "[CV 5/5] END max_depth=10, max_samples=0.9, n_estimators=250;, score=-2853153838.136 total time=  13.7s\n"
     ]
    },
    {
     "data": {
      "text/plain": [
       "RandomizedSearchCV(cv=5,\n",
       "                   estimator=RandomForestRegressor(max_depth=6, max_samples=0.8,\n",
       "                                                   n_estimators=150, n_jobs=-1,\n",
       "                                                   random_state=42),\n",
       "                   n_iter=20,\n",
       "                   param_distributions={'max_depth': array([ 4,  6,  8, 10, 12, 14, 16, 18]),\n",
       "                                        'max_samples': [0.7, 0.8, 0.9, 1],\n",
       "                                        'n_estimators': array([100, 150, 200, 250, 300, 350, 400, 450])},\n",
       "                   random_state=422, scoring='neg_mean_squared_error',\n",
       "                   verbose=6)"
      ]
     },
     "execution_count": 19,
     "metadata": {},
     "output_type": "execute_result"
    }
   ],
   "source": [
    "## Using RandomizedSearchCV\n",
    "params_best_forest = {'n_estimators': np.arange(100, 500, 50), \n",
    "                      'max_depth': np.arange(4, 20, 2), \n",
    "                      'max_samples': [0.7, 0.8, 0.9, 1]}\n",
    "\n",
    "## Intialize\n",
    "search_random_forest = RandomizedSearchCV(estimator=forest_reg, param_distributions=params_best_forest, \n",
    "                                          n_iter=20, scoring='neg_mean_squared_error', \n",
    "                                          cv=5, verbose=6, random_state=422)\n",
    "\n",
    "search_random_forest.fit(x_train, y_train)"
   ]
  },
  {
   "cell_type": "code",
   "execution_count": 20,
   "id": "0d5435ee",
   "metadata": {},
   "outputs": [
    {
     "name": "stdout",
     "output_type": "stream",
     "text": [
      "best_forest_params --  {'n_estimators': 400, 'max_samples': 0.9, 'max_depth': 18}\n",
      "best_forest --  RandomForestRegressor(max_depth=18, max_samples=0.9, n_estimators=400,\n",
      "                      n_jobs=-1, random_state=42)\n"
     ]
    }
   ],
   "source": [
    "## Get the best Params\n",
    "best_forest_params = search_random_forest.best_params_\n",
    "print('best_forest_params -- ', best_forest_params)\n",
    "\n",
    "with open(params[\"best_rf_param_log_path\"], \"w\") as outfile:\n",
    "    json.dump(best_forest_params, outfile, default=str)\n",
    "\n",
    "\n",
    "## Get the best estimator\n",
    "best_forest = search_random_forest.best_estimator_  ## predict using this Model\n",
    "print('best_forest -- ', best_forest)\n",
    "\n",
    "with open(params[\"best_rf_estimator_log_path\"], \"w\") as outfile:\n",
    "    json.dump(best_forest, outfile, default=str)"
   ]
  },
  {
   "cell_type": "code",
   "execution_count": 21,
   "id": "1446be78",
   "metadata": {},
   "outputs": [
    {
     "name": "stdout",
     "output_type": "stream",
     "text": [
      "RMSE Scores Using Tuned RandomForest --- [48550.1057 52281.4938 51246.7275 48834.964  50251.959 ]\n",
      "Mean of RMSE Scores Using Tuned RandomForest --- 50233.0500\n",
      "************************************************************************************************************************\n",
      "RMSE after prediction Using Tuned RandomForest --- 50252.9752\n"
     ]
    }
   ],
   "source": [
    "## Check scores of this Model (RMSE) using (cross_val_score)\n",
    "rmse_scores_tuned_forest = cross_val_score(estimator=best_forest, X=x_train, y=y_train, \n",
    "                               cv=5, scoring='neg_mean_squared_error', n_jobs=-1)  ## sklearn deals with error as negative\n",
    "rmse_scores_tuned_forest = -1 * rmse_scores_tuned_forest   ## we want it positive\n",
    "rmse_scores_tuned_forest = np.sqrt(rmse_scores_tuned_forest)\n",
    "print(f'RMSE Scores Using Tuned RandomForest --- {np.round(rmse_scores_tuned_forest, 4)}')\n",
    "print(f'Mean of RMSE Scores Using Tuned RandomForest --- {rmse_scores_tuned_forest.mean():.4f}')\n",
    "\n",
    "print('****'*30)\n",
    "\n",
    "## Get Prediction using (cross_val_predict)\n",
    "y_pred_tuned_forest = cross_val_predict(estimator=best_forest, X=x_train, y=y_train, cv=5, \n",
    "                                        method='predict', n_jobs=-1)\n",
    "## You can check the (RMSE) using what model predicts and compare it with the Mean of above result -- almost the same\n",
    "## take care of this point --> don't use .predict when you are using (crossValidation)\n",
    "rmse_pred_tuned_forest = np.sqrt(mean_squared_error(y_train, y_pred_tuned_forest))\n",
    "print(f'RMSE after prediction Using Tuned RandomForest --- {rmse_pred_tuned_forest:.4f}')  ## almost the same result :D"
   ]
  },
  {
   "cell_type": "markdown",
   "id": "72d83243",
   "metadata": {},
   "source": [
    "### `XGboost -- try above and beyond`"
   ]
  },
  {
   "cell_type": "code",
   "execution_count": 22,
   "id": "5474d897",
   "metadata": {},
   "outputs": [
    {
     "data": {
      "text/plain": [
       "XGBRegressor(base_score=None, booster=None, callbacks=None,\n",
       "             colsample_bylevel=None, colsample_bynode=None,\n",
       "             colsample_bytree=None, early_stopping_rounds=None,\n",
       "             enable_categorical=False, eval_metric=None, feature_types=None,\n",
       "             gamma=None, gpu_id=None, grow_policy=None, importance_type=None,\n",
       "             interaction_constraints=None, learning_rate=0.1, max_bin=None,\n",
       "             max_cat_threshold=None, max_cat_to_onehot=None,\n",
       "             max_delta_step=None, max_depth=6, max_leaves=None,\n",
       "             min_child_weight=None, missing=nan, monotone_constraints=None,\n",
       "             n_estimators=100, n_jobs=None, num_parallel_tree=None,\n",
       "             predictor=None, random_state=None, ...)"
      ]
     },
     "execution_count": 22,
     "metadata": {},
     "output_type": "execute_result"
    }
   ],
   "source": [
    "## Using the Hero API -- XGBOOST\n",
    "xgb_reg = XGBRegressor(n_estimators=100, max_depth=6, learning_rate=0.1, subsample=0.8)\n",
    "xgb_reg.fit(x_train, y_train)"
   ]
  },
  {
   "cell_type": "code",
   "execution_count": 23,
   "id": "63cef682",
   "metadata": {},
   "outputs": [
    {
     "name": "stdout",
     "output_type": "stream",
     "text": [
      "RMSE Scores Using Tuned XGBoost --- [46401.218  48678.5008 48205.3615 46268.9467 48333.7256]\n",
      "Mean of RMSE Scores Using XGBoost --- 47577.5505\n",
      "************************************************************************************************************************\n",
      "RMSE after prediction Using XGBoost --- 47588.5920\n"
     ]
    }
   ],
   "source": [
    "## Check scores of this Model (RMSE) using (cross_val_score)\n",
    "rmse_scores_xgb = cross_val_score(estimator=xgb_reg, X=x_train, y=y_train, \n",
    "                               cv=5, scoring='neg_mean_squared_error', n_jobs=-1)  ## sklearn deals with error as negative\n",
    "rmse_scores_xgb = -1 * rmse_scores_xgb   ## we want it positive\n",
    "rmse_scores_xgb = np.sqrt(rmse_scores_xgb)\n",
    "print(f'RMSE Scores Using Tuned XGBoost --- {np.round(rmse_scores_xgb, 4)}')\n",
    "print(f'Mean of RMSE Scores Using XGBoost --- {rmse_scores_xgb.mean():.4f}')\n",
    "\n",
    "print('****'*30)\n",
    "\n",
    "## Get Prediction using (cross_val_predict)\n",
    "y_pred_xgb = cross_val_predict(estimator=xgb_reg, X=x_train, y=y_train, cv=5, \n",
    "                                        method='predict', n_jobs=-1)\n",
    "## You can check the (RMSE) using what model predicts and compare it with the Mean of above result -- almost the same\n",
    "## take care of this point --> don't use .predict when you are using (crossValidation)\n",
    "rmse_pred_xgb = np.sqrt(mean_squared_error(y_train, y_pred_xgb))\n",
    "print(f'RMSE after prediction Using XGBoost --- {rmse_pred_xgb:.4f}')  ## almost the same result :D"
   ]
  },
  {
   "cell_type": "markdown",
   "id": "e6b143d0",
   "metadata": {},
   "source": [
    "### `Tuning XGBoost`"
   ]
  },
  {
   "cell_type": "code",
   "execution_count": 24,
   "id": "da3ea33a",
   "metadata": {},
   "outputs": [
    {
     "name": "stdout",
     "output_type": "stream",
     "text": [
      "Fitting 5 folds for each of 48 candidates, totalling 240 fits\n"
     ]
    },
    {
     "data": {
      "text/plain": [
       "GridSearchCV(cv=5,\n",
       "             estimator=XGBRegressor(base_score=None, booster=None,\n",
       "                                    callbacks=None, colsample_bylevel=None,\n",
       "                                    colsample_bynode=None,\n",
       "                                    colsample_bytree=None,\n",
       "                                    early_stopping_rounds=None,\n",
       "                                    enable_categorical=False, eval_metric=None,\n",
       "                                    feature_types=None, gamma=None, gpu_id=None,\n",
       "                                    grow_policy=None, importance_type=None,\n",
       "                                    interaction_constraints=None,\n",
       "                                    learning_rate=0.1, ma...\n",
       "                                    max_depth=6, max_leaves=None,\n",
       "                                    min_child_weight=None, missing=nan,\n",
       "                                    monotone_constraints=None, n_estimators=100,\n",
       "                                    n_jobs=None, num_parallel_tree=None,\n",
       "                                    predictor=None, random_state=None, ...),\n",
       "             n_jobs=-1,\n",
       "             param_grid={'learning_rate': [0.1, 0.2],\n",
       "                         'max_depth': array([ 4,  6,  8, 10, 12, 14]),\n",
       "                         'n_estimators': array([100, 150]),\n",
       "                         'subsample': [0.8, 0.9]},\n",
       "             scoring='neg_mean_squared_error', verbose=6)"
      ]
     },
     "execution_count": 24,
     "metadata": {},
     "output_type": "execute_result"
    }
   ],
   "source": [
    "### Let's try tuning XGBoost using GridSearchCV  --- needs alot of tuning\n",
    "params_best_xgb = {'n_estimators': np.arange(100, 200, 50), 'max_depth': np.arange(4, 15, 2), \n",
    "                   'learning_rate': [0.1, 0.2], 'subsample': [0.8, 0.9]}\n",
    "\n",
    "\n",
    "## Intitalize the GridSearchCV and Fit ti Data\n",
    "grid_xgb = GridSearchCV(estimator=xgb_reg, param_grid=params_best_xgb, cv=5, \n",
    "                        scoring='neg_mean_squared_error', n_jobs=-1, verbose=6)\n",
    "grid_xgb.fit(x_train, y_train)  ## train"
   ]
  },
  {
   "cell_type": "code",
   "execution_count": 25,
   "id": "56c0fdc0",
   "metadata": {},
   "outputs": [
    {
     "name": "stdout",
     "output_type": "stream",
     "text": [
      "best_xgb_params --  {'learning_rate': 0.1, 'max_depth': 8, 'n_estimators': 150, 'subsample': 0.8}\n",
      "best_xgb --  XGBRegressor(base_score=None, booster=None, callbacks=None,\n",
      "             colsample_bylevel=None, colsample_bynode=None,\n",
      "             colsample_bytree=None, early_stopping_rounds=None,\n",
      "             enable_categorical=False, eval_metric=None, feature_types=None,\n",
      "             gamma=None, gpu_id=None, grow_policy=None, importance_type=None,\n",
      "             interaction_constraints=None, learning_rate=0.1, max_bin=None,\n",
      "             max_cat_threshold=None, max_cat_to_onehot=None,\n",
      "             max_delta_step=None, max_depth=8, max_leaves=None,\n",
      "             min_child_weight=None, missing=nan, monotone_constraints=None,\n",
      "             n_estimators=150, n_jobs=None, num_parallel_tree=None,\n",
      "             predictor=None, random_state=None, ...)\n"
     ]
    }
   ],
   "source": [
    "## Get the best Params\n",
    "best_xgb_params = grid_xgb.best_params_\n",
    "print('best_xgb_params -- ', best_xgb_params)\n",
    "\n",
    "with open(params[\"best_xgb_param_log_path\"], \"w\") as outfile:\n",
    "    json.dump(best_xgb_params, outfile, default=str)\n",
    "\n",
    "\n",
    "## Get the best estimator\n",
    "best_xgb = grid_xgb.best_estimator_  ## predict using this Model\n",
    "print('best_xgb -- ', best_xgb)\n",
    "\n",
    "with open(params[\"best_xgb_estimator_log_path\"], \"w\") as outfile:\n",
    "    json.dump(best_xgb, outfile, default=str)"
   ]
  },
  {
   "cell_type": "code",
   "execution_count": 26,
   "id": "3b9ae334",
   "metadata": {},
   "outputs": [
    {
     "name": "stdout",
     "output_type": "stream",
     "text": [
      "RMSE Scores Using Tuned Tuned XGBoost --- [44577.0097 46753.8341 46620.9049 45085.3031 46345.7689]\n",
      "Mean of RMSE Scores Using Tuned XGBoost --- 45876.5642\n",
      "************************************************************************************************************************\n",
      "RMSE after prediction Using Tuned XGBoost --- 45884.9481\n"
     ]
    }
   ],
   "source": [
    "### Finally\n",
    "\n",
    "## Check scores of this Model (RMSE) using (cross_val_score)\n",
    "rmse_scores_tuned_xgb = cross_val_score(estimator=best_xgb, X=x_train, y=y_train, \n",
    "                               cv=5, scoring='neg_mean_squared_error', n_jobs=-1)  ## sklearn deals with error as negative\n",
    "rmse_scores_tuned_xgb = -1 * rmse_scores_tuned_xgb   ## we want it positive\n",
    "rmse_scores_tuned_xgb = np.sqrt(rmse_scores_tuned_xgb)\n",
    "print(f'RMSE Scores Using Tuned Tuned XGBoost --- {np.round(rmse_scores_tuned_xgb, 4)}')\n",
    "print(f'Mean of RMSE Scores Using Tuned XGBoost --- {rmse_scores_tuned_xgb.mean():.4f}')\n",
    "\n",
    "print('****'*30)\n",
    "\n",
    "## Get Prediction using (cross_val_predict)\n",
    "y_pred_tuned_xgb = cross_val_predict(estimator=best_xgb, X=x_train, y=y_train, cv=5, \n",
    "                                        method='predict', n_jobs=-1)\n",
    "## You can check the (RMSE) using what model predicts and compare it with the Mean of above result -- almost the same\n",
    "## take care of this point --> don't use .predict when you are using (crossValidation)\n",
    "rmse_pred_tuned_xgb = np.sqrt(mean_squared_error(y_train, y_pred_tuned_xgb))\n",
    "print(f'RMSE after prediction Using Tuned XGBoost --- {rmse_pred_tuned_xgb:.4f}')  ## almost the same result :D"
   ]
  },
  {
   "cell_type": "markdown",
   "id": "29e2ab1e",
   "metadata": {},
   "source": [
    "### `Models Comparison`"
   ]
  },
  {
   "cell_type": "code",
   "execution_count": 27,
   "id": "02745c9e",
   "metadata": {},
   "outputs": [
    {
     "data": {
      "image/png": "[encoded data removed]",
      "text/plain": [
       "<Figure size 864x576 with 1 Axes>"
      ]
     },
     "metadata": {
      "needs_background": "light"
     },
     "output_type": "display_data"
    }
   ],
   "source": [
    "## Plotting\n",
    "x_x = np.arange(100, 200)  ## random selected points\n",
    "## Plotting\n",
    "plt.figure(figsize=(12, 8))\n",
    "plt.plot(x_x, y_train.values[100:200], 'r*-',  markersize=7, label='Ground Truth')  ## for train\n",
    "plt.plot(x_x, y_pred_tuned_forest[100:200], 'ko--', markersize=7, label='RandomForest')\n",
    "plt.plot(x_x, y_pred_tuned_xgb[100:200], 'bx-', markersize=7, label='XGBoost')\n",
    "plt.title('Comparison between Models for 100 random points in Train Dataset', fontsize=14, color='k')\n",
    "plt.xlabel('Points Number', fontsize=14, color='k')\n",
    "plt.ylabel('Prediction (median_house_value)', fontsize=14, color='k')\n",
    "plt.legend()\n",
    "plt.grid('on')\n",
    "plt.show()"
   ]
  },
  {
   "cell_type": "markdown",
   "id": "86d9ff71",
   "metadata": {},
   "source": [
    "### `Download the best Model --- best_xgb`"
   ]
  },
  {
   "cell_type": "code",
   "execution_count": 28,
   "id": "51d383ef",
   "metadata": {},
   "outputs": [],
   "source": [
    "## Download using joblib\n",
    "util.pickle_dump(best_xgb, params[\"production_model_path\"])\n",
    "# joblib.dump(best_xgb, 'model_XGBoost.pkl')"
   ]
  },
  {
   "cell_type": "code",
   "execution_count": 29,
   "id": "a8d01d9c",
   "metadata": {},
   "outputs": [
    {
     "data": {
      "text/plain": [
       "XGBRegressor(base_score=None, booster=None, callbacks=None,\n",
       "             colsample_bylevel=None, colsample_bynode=None,\n",
       "             colsample_bytree=None, early_stopping_rounds=None,\n",
       "             enable_categorical=False, eval_metric=None, feature_types=None,\n",
       "             gamma=None, gpu_id=None, grow_policy=None, importance_type=None,\n",
       "             interaction_constraints=None, learning_rate=0.1, max_bin=None,\n",
       "             max_cat_threshold=None, max_cat_to_onehot=None,\n",
       "             max_delta_step=None, max_depth=8, max_leaves=None,\n",
       "             min_child_weight=None, missing=nan, monotone_constraints=None,\n",
       "             n_estimators=150, n_jobs=None, num_parallel_tree=None,\n",
       "             predictor=None, random_state=None, ...)"
      ]
     },
     "execution_count": 29,
     "metadata": {},
     "output_type": "execute_result"
    }
   ],
   "source": [
    "loaded_model = util.pickle_load(params[\"production_model_path\"])\n",
    "loaded_model"
   ]
  },
  {
   "cell_type": "markdown",
   "id": "5c0136eb",
   "metadata": {},
   "source": [
    "### `Inference on Test Dataset`"
   ]
  },
  {
   "cell_type": "code",
   "execution_count": 30,
   "id": "5ed2ac2f",
   "metadata": {},
   "outputs": [
    {
     "name": "stdout",
     "output_type": "stream",
     "text": [
      "RMSE on test Dataset using XGBoost -- 44640.304\n"
     ]
    }
   ],
   "source": [
    "## Now, we can touch Test Dataset using (loaded_model == best_xgb) -- tuned XGBoost Model\n",
    "y_pred_test = loaded_model.predict(x_test)  ## Remember X_test_final --> is processed and ready (take care)\n",
    "\n",
    "## RMSE on test after finishing all my work\n",
    "rmse_test = np.sqrt(mean_squared_error(y_test, y_pred_test))\n",
    "print(f'RMSE on test Dataset using XGBoost -- {rmse_test:.3f}')   ## Very Good :D"
   ]
  },
  {
   "cell_type": "code",
   "execution_count": 31,
   "id": "5cc2aab6",
   "metadata": {},
   "outputs": [
    {
     "data": {
      "text/plain": [
       "20046     47700.0\n",
       "3024      45800.0\n",
       "15663    500001.0\n",
       "20484    218600.0\n",
       "9814     278000.0\n",
       "           ...   \n",
       "19053     96400.0\n",
       "9444      92400.0\n",
       "20266    213900.0\n",
       "13522    155000.0\n",
       "6114     133000.0\n",
       "Name: median_house_value, Length: 3096, dtype: float64"
      ]
     },
     "execution_count": 31,
     "metadata": {},
     "output_type": "execute_result"
    }
   ],
   "source": [
    "y_test"
   ]
  },
  {
   "cell_type": "code",
   "execution_count": 32,
   "id": "30c01cae",
   "metadata": {},
   "outputs": [
    {
     "data": {
      "text/plain": [
       "array([[ 0.28503676,  0.1950594 , -0.28418942, ...,  0.        ,\n",
       "         0.        ,  0.        ],\n",
       "       [ 0.06065351, -0.23550335,  0.1123855 , ...,  0.        ,\n",
       "         0.        ,  0.        ],\n",
       "       [-1.42526222,  1.0093846 ,  1.85731512, ...,  0.        ,\n",
       "         1.        ,  0.        ],\n",
       "       ...,\n",
       "       [ 0.20026975, -0.67074613,  1.38142522, ...,  0.        ,\n",
       "         0.        ,  1.        ],\n",
       "       [ 1.08284386, -0.66138607, -0.91870928, ...,  0.        ,\n",
       "         0.        ,  0.        ],\n",
       "       [ 0.83851543, -0.70818637,  0.66759038, ...,  0.        ,\n",
       "         0.        ,  0.        ]])"
      ]
     },
     "execution_count": 32,
     "metadata": {},
     "output_type": "execute_result"
    },
    {
     "name": "stdout",
     "output_type": "stream",
     "text": [
      "[CV 2/5] END learning_rate=0.1, max_depth=4, n_estimators=100, subsample=0.8;, score=-2593926229.022 total time=   5.5s\n",
      "[CV 1/5] END learning_rate=0.1, max_depth=4, n_estimators=100, subsample=0.9;, score=-2478944161.873 total time=   6.5s\n",
      "[CV 5/5] END learning_rate=0.1, max_depth=4, n_estimators=100, subsample=0.9;, score=-2712761086.288 total time=   5.6s\n",
      "[CV 4/5] END learning_rate=0.1, max_depth=4, n_estimators=150, subsample=0.8;, score=-2270456141.152 total time=   8.9s\n",
      "[CV 3/5] END learning_rate=0.1, max_depth=4, n_estimators=150, subsample=0.9;, score=-2416475990.355 total time=   8.7s\n",
      "[CV 2/5] END learning_rate=0.1, max_depth=6, n_estimators=100, subsample=0.8;, score=-2369596436.516 total time=   8.4s\n",
      "[CV 1/5] END learning_rate=0.1, max_depth=6, n_estimators=100, subsample=0.9;, score=-2165033433.474 total time=   9.0s\n",
      "[CV 5/5] END learning_rate=0.1, max_depth=6, n_estimators=100, subsample=0.9;, score=-2333386788.991 total time=   8.6s\n",
      "[CV 4/5] END learning_rate=0.1, max_depth=6, n_estimators=150, subsample=0.8;, score=-2077748902.869 total time=  12.8s\n",
      "[CV 3/5] END learning_rate=0.1, max_depth=6, n_estimators=150, subsample=0.9;, score=-2292667367.141 total time=  13.6s\n",
      "[CV 2/5] END learning_rate=0.1, max_depth=8, n_estimators=100, subsample=0.8;, score=-2232882490.504 total time=  12.6s\n",
      "[CV 1/5] END learning_rate=0.1, max_depth=8, n_estimators=100, subsample=0.9;, score=-2017492948.984 total time=  12.2s\n",
      "[CV 5/5] END learning_rate=0.1, max_depth=8, n_estimators=100, subsample=0.9;, score=-2195877580.586 total time=  12.4s\n",
      "[CV 4/5] END learning_rate=0.1, max_depth=8, n_estimators=150, subsample=0.8;, score=-2032684558.083 total time=  18.8s\n",
      "[CV 3/5] END learning_rate=0.1, max_depth=8, n_estimators=150, subsample=0.9;, score=-2207062307.795 total time=  19.2s\n",
      "[CV 2/5] END learning_rate=0.1, max_depth=10, n_estimators=100, subsample=0.8;, score=-2309713558.654 total time=  15.5s\n",
      "[CV 1/5] END learning_rate=0.1, max_depth=10, n_estimators=100, subsample=0.9;, score=-2057120763.372 total time=  16.4s\n",
      "[CV 5/5] END learning_rate=0.1, max_depth=10, n_estimators=100, subsample=0.9;, score=-2182819829.418 total time=  16.3s\n",
      "[CV 4/5] END learning_rate=0.1, max_depth=10, n_estimators=150, subsample=0.8;, score=-2077940129.540 total time=  25.9s\n",
      "[CV 3/5] END learning_rate=0.1, max_depth=10, n_estimators=150, subsample=0.9;, score=-2270701890.144 total time=  23.6s\n",
      "[CV 2/5] END learning_rate=0.1, max_depth=12, n_estimators=100, subsample=0.8;, score=-2366945084.096 total time=  18.7s\n",
      "[CV 4/5] END learning_rate=0.1, max_depth=12, n_estimators=100, subsample=0.8;, score=-2179309744.013 total time=  19.5s\n",
      "[CV 3/5] END learning_rate=0.1, max_depth=12, n_estimators=100, subsample=0.9;, score=-2393183159.392 total time=  19.6s\n",
      "[CV 2/5] END learning_rate=0.1, max_depth=12, n_estimators=150, subsample=0.8;, score=-2346028686.317 total time=  28.7s\n",
      "[CV 1/5] END learning_rate=0.1, max_depth=12, n_estimators=150, subsample=0.9;, score=-2108732447.111 total time=  30.2s\n",
      "[CV 1/5] END learning_rate=0.1, max_depth=14, n_estimators=100, subsample=0.8;, score=-2171959507.403 total time=  22.4s\n",
      "[CV 3/5] END learning_rate=0.1, max_depth=14, n_estimators=100, subsample=0.8;, score=-2437102817.241 total time=  22.2s\n",
      "[CV 2/5] END learning_rate=0.1, max_depth=14, n_estimators=100, subsample=0.9;, score=-2427326546.959 total time=  25.0s\n",
      "[CV 1/5] END learning_rate=0.1, max_depth=14, n_estimators=150, subsample=0.8;, score=-2163119534.283 total time=  33.4s\n",
      "[CV 5/5] END learning_rate=0.1, max_depth=14, n_estimators=150, subsample=0.8;, score=-2312890744.112 total time=  33.2s\n",
      "[CV 4/5] END learning_rate=0.1, max_depth=14, n_estimators=150, subsample=0.9;, score=-2223495161.354 total time=  34.2s\n",
      "[CV 2/5] END learning_rate=0.2, max_depth=4, n_estimators=150, subsample=0.8;, score=-2299013017.961 total time=   7.7s\n",
      "[CV 1/5] END learning_rate=0.2, max_depth=4, n_estimators=150, subsample=0.9;, score=-2234779082.662 total time=   8.1s\n",
      "[CV 5/5] END learning_rate=0.2, max_depth=4, n_estimators=150, subsample=0.9;, score=-2426118661.296 total time=   8.1s\n",
      "[CV 4/5] END learning_rate=0.2, max_depth=6, n_estimators=100, subsample=0.8;, score=-2107457552.205 total time=   9.0s\n",
      "[CV 3/5] END learning_rate=0.2, max_depth=6, n_estimators=100, subsample=0.9;, score=-2277254454.979 total time=   9.3s\n",
      "[CV 2/5] END learning_rate=0.2, max_depth=6, n_estimators=150, subsample=0.8;, score=-2192889638.697 total time=  12.5s\n",
      "[CV 1/5] END learning_rate=0.2, max_depth=6, n_estimators=150, subsample=0.9;, score=-2072744746.683 total time=  12.5s\n",
      "[CV 5/5] END learning_rate=0.2, max_depth=6, n_estimators=150, subsample=0.9;, score=-2252555554.327 total time=  12.8s\n",
      "[CV 5/5] END learning_rate=0.2, max_depth=8, n_estimators=100, subsample=0.8;, score=-2281415994.233 total time=  12.0s\n",
      "[CV 4/5] END learning_rate=0.2, max_depth=8, n_estimators=100, subsample=0.9;, score=-2122312898.831 total time=  11.9s\n",
      "[CV 3/5] END learning_rate=0.2, max_depth=8, n_estimators=150, subsample=0.8;, score=-2353270438.564 total time=  18.2s\n",
      "[CV 2/5] END learning_rate=0.2, max_depth=8, n_estimators=150, subsample=0.9;, score=-2311596252.196 total time=  17.3s\n",
      "[CV 1/5] END learning_rate=0.2, max_depth=10, n_estimators=100, subsample=0.8;, score=-2130226906.117 total time=  16.5s\n",
      "[CV 3/5] END learning_rate=0.2, max_depth=10, n_estimators=100, subsample=0.8;, score=-2386241602.320 total time=  15.7s\n",
      "[CV 2/5] END learning_rate=0.2, max_depth=10, n_estimators=100, subsample=0.9;, score=-2351491729.021 total time=  19.6s\n",
      "[CV 1/5] END learning_rate=0.2, max_depth=10, n_estimators=150, subsample=0.8;, score=-2128548415.081 total time=  26.7s\n",
      "[CV 5/5] END learning_rate=0.2, max_depth=10, n_estimators=150, subsample=0.8;, score=-2329714212.625 total time=  26.1s\n",
      "[CV 4/5] END learning_rate=0.2, max_depth=10, n_estimators=150, subsample=0.9;, score=-2177327126.406 total time=  26.0s\n",
      "[CV 5/5] END learning_rate=0.2, max_depth=12, n_estimators=100, subsample=0.8;, score=-2399304565.751 total time=  19.0s\n",
      "[CV 4/5] END learning_rate=0.2, max_depth=12, n_estimators=100, subsample=0.9;, score=-2251639961.621 total time=  19.1s\n",
      "[CV 3/5] END learning_rate=0.2, max_depth=12, n_estimators=150, subsample=0.8;, score=-2496962995.310 total time=  28.1s\n",
      "[CV 2/5] END learning_rate=0.2, max_depth=12, n_estimators=150, subsample=0.9;, score=-2456570450.666 total time=  27.9s\n",
      "[CV 1/5] END learning_rate=0.2, max_depth=14, n_estimators=100, subsample=0.8;, score=-2328773716.169 total time=  21.6s\n",
      "[CV 3/5] END learning_rate=0.2, max_depth=14, n_estimators=100, subsample=0.8;, score=-2566685269.414 total time=  22.7s\n",
      "[CV 2/5] END learning_rate=0.2, max_depth=14, n_estimators=100, subsample=0.9;, score=-2582534863.595 total time=  22.5s\n",
      "[CV 1/5] END learning_rate=0.2, max_depth=14, n_estimators=150, subsample=0.8;, score=-2327706185.577 total time=  33.2s\n",
      "[CV 5/5] END learning_rate=0.2, max_depth=14, n_estimators=150, subsample=0.8;, score=-2423132390.502 total time=  33.1s\n",
      "[CV 4/5] END learning_rate=0.2, max_depth=14, n_estimators=150, subsample=0.9;, score=-2316478134.971 total time=  21.9s\n",
      "[CV 1/5] END learning_rate=0.1, max_depth=4, n_estimators=100, subsample=0.8;, score=-2494073078.886 total time=   5.5s\n",
      "[CV 5/5] END learning_rate=0.1, max_depth=4, n_estimators=100, subsample=0.8;, score=-2670196480.315 total time=   6.4s\n",
      "[CV 4/5] END learning_rate=0.1, max_depth=4, n_estimators=100, subsample=0.9;, score=-2401560168.212 total time=   5.6s\n",
      "[CV 3/5] END learning_rate=0.1, max_depth=4, n_estimators=150, subsample=0.8;, score=-2466827041.713 total time=   8.8s\n",
      "[CV 2/5] END learning_rate=0.1, max_depth=4, n_estimators=150, subsample=0.9;, score=-2420593434.828 total time=   8.6s\n",
      "[CV 1/5] END learning_rate=0.1, max_depth=6, n_estimators=100, subsample=0.8;, score=-2153073028.321 total time=   8.2s\n",
      "[CV 5/5] END learning_rate=0.1, max_depth=6, n_estimators=100, subsample=0.8;, score=-2336149032.897 total time=   8.8s\n",
      "[CV 4/5] END learning_rate=0.1, max_depth=6, n_estimators=100, subsample=0.9;, score=-2116532396.157 total time=   8.6s\n",
      "[CV 3/5] END learning_rate=0.1, max_depth=6, n_estimators=150, subsample=0.8;, score=-2264566216.653 total time=  12.9s\n",
      "[CV 2/5] END learning_rate=0.1, max_depth=6, n_estimators=150, subsample=0.9;, score=-2279146306.660 total time=  13.8s\n",
      "[CV 1/5] END learning_rate=0.1, max_depth=8, n_estimators=100, subsample=0.8;, score=-2020406277.467 total time=  12.6s\n",
      "[CV 5/5] END learning_rate=0.1, max_depth=8, n_estimators=100, subsample=0.8;, score=-2187151051.446 total time=  12.0s\n",
      "[CV 4/5] END learning_rate=0.1, max_depth=8, n_estimators=100, subsample=0.9;, score=-2012807604.955 total time=  12.5s\n",
      "[CV 3/5] END learning_rate=0.1, max_depth=8, n_estimators=150, subsample=0.8;, score=-2173508774.930 total time=  18.6s\n",
      "[CV 2/5] END learning_rate=0.1, max_depth=8, n_estimators=150, subsample=0.9;, score=-2235459490.247 total time=  19.4s\n",
      "[CV 1/5] END learning_rate=0.1, max_depth=10, n_estimators=100, subsample=0.8;, score=-2037702922.046 total time=  15.5s\n",
      "[CV 5/5] END learning_rate=0.1, max_depth=10, n_estimators=100, subsample=0.8;, score=-2178586569.727 total time=  16.1s\n",
      "[CV 4/5] END learning_rate=0.1, max_depth=10, n_estimators=100, subsample=0.9;, score=-2095186446.162 total time=  16.4s\n",
      "[CV 3/5] END learning_rate=0.1, max_depth=10, n_estimators=150, subsample=0.8;, score=-2247464445.715 total time=  25.7s\n",
      "[CV 2/5] END learning_rate=0.1, max_depth=10, n_estimators=150, subsample=0.9;, score=-2233809880.291 total time=  23.7s\n",
      "[CV 1/5] END learning_rate=0.1, max_depth=12, n_estimators=100, subsample=0.8;, score=-2065145966.149 total time=  18.9s\n",
      "[CV 3/5] END learning_rate=0.1, max_depth=12, n_estimators=100, subsample=0.8;, score=-2338661357.595 total time=  19.3s\n",
      "[CV 2/5] END learning_rate=0.1, max_depth=12, n_estimators=100, subsample=0.9;, score=-2343226608.059 total time=  19.7s\n",
      "[CV 1/5] END learning_rate=0.1, max_depth=12, n_estimators=150, subsample=0.8;, score=-2053442584.211 total time=  28.4s\n",
      "[CV 5/5] END learning_rate=0.1, max_depth=12, n_estimators=150, subsample=0.8;, score=-2249463328.314 total time=  29.5s\n",
      "[CV 4/5] END learning_rate=0.1, max_depth=12, n_estimators=150, subsample=0.9;, score=-2110568225.497 total time=  29.0s\n",
      "[CV 5/5] END learning_rate=0.1, max_depth=14, n_estimators=100, subsample=0.8;, score=-2319124151.889 total time=  22.5s\n",
      "[CV 4/5] END learning_rate=0.1, max_depth=14, n_estimators=100, subsample=0.9;, score=-2229104027.791 total time=  24.7s\n",
      "[CV 3/5] END learning_rate=0.1, max_depth=14, n_estimators=150, subsample=0.8;, score=-2430302944.683 total time=  33.2s\n",
      "[CV 2/5] END learning_rate=0.1, max_depth=14, n_estimators=150, subsample=0.9;, score=-2422783348.347 total time=  34.1s\n",
      "[CV 1/5] END learning_rate=0.2, max_depth=4, n_estimators=100, subsample=0.8;, score=-2308531059.463 total time=   5.1s\n",
      "[CV 3/5] END learning_rate=0.2, max_depth=4, n_estimators=100, subsample=0.8;, score=-2428946155.663 total time=   5.5s\n",
      "[CV 5/5] END learning_rate=0.2, max_depth=4, n_estimators=100, subsample=0.8;, score=-2547465773.803 total time=   5.4s\n",
      "[CV 2/5] END learning_rate=0.2, max_depth=4, n_estimators=100, subsample=0.9;, score=-2432999304.289 total time=   5.4s\n",
      "[CV 4/5] END learning_rate=0.2, max_depth=4, n_estimators=100, subsample=0.9;, score=-2206350555.874 total time=   5.5s\n",
      "[CV 1/5] END learning_rate=0.2, max_depth=4, n_estimators=150, subsample=0.8;, score=-2211045644.408 total time=   7.8s\n",
      "[CV 5/5] END learning_rate=0.2, max_depth=4, n_estimators=150, subsample=0.8;, score=-2463349144.507 total time=   7.8s\n",
      "[CV 4/5] END learning_rate=0.2, max_depth=4, n_estimators=150, subsample=0.9;, score=-2156164967.877 total time=   7.9s\n",
      "[CV 3/5] END learning_rate=0.2, max_depth=6, n_estimators=100, subsample=0.8;, score=-2305754443.715 total time=   8.5s\n",
      "[CV 2/5] END learning_rate=0.2, max_depth=6, n_estimators=100, subsample=0.9;, score=-2295720551.101 total time=   9.9s\n",
      "[CV 1/5] END learning_rate=0.2, max_depth=6, n_estimators=150, subsample=0.8;, score=-2055629380.994 total time=  12.4s\n",
      "[CV 5/5] END learning_rate=0.2, max_depth=6, n_estimators=150, subsample=0.8;, score=-2271470903.484 total time=  12.3s\n",
      "[CV 4/5] END learning_rate=0.2, max_depth=6, n_estimators=150, subsample=0.9;, score=-2100482443.703 total time=  12.6s\n",
      "[CV 3/5] END learning_rate=0.2, max_depth=8, n_estimators=100, subsample=0.8;, score=-2353898204.126 total time=  11.8s\n",
      "[CV 2/5] END learning_rate=0.2, max_depth=8, n_estimators=100, subsample=0.9;, score=-2333122617.542 total time=  12.0s\n",
      "[CV 1/5] END learning_rate=0.2, max_depth=8, n_estimators=150, subsample=0.8;, score=-2030392545.900 total time=  18.2s\n",
      "[CV 5/5] END learning_rate=0.2, max_depth=8, n_estimators=150, subsample=0.8;, score=-2271167444.868 total time=  17.0s\n",
      "[CV 4/5] END learning_rate=0.2, max_depth=8, n_estimators=150, subsample=0.9;, score=-2107861442.667 total time=  19.1s\n",
      "[CV 4/5] END learning_rate=0.2, max_depth=10, n_estimators=100, subsample=0.8;, score=-2142280014.684 total time=  16.0s\n",
      "[CV 3/5] END learning_rate=0.2, max_depth=10, n_estimators=100, subsample=0.9;, score=-2380197890.174 total time=  19.7s\n",
      "[CV 2/5] END learning_rate=0.2, max_depth=10, n_estimators=150, subsample=0.8;, score=-2456523015.933 total time=  26.7s\n",
      "[CV 1/5] END learning_rate=0.2, max_depth=10, n_estimators=150, subsample=0.9;, score=-2086305090.647 total time=  26.4s\n",
      "[CV 5/5] END learning_rate=0.2, max_depth=10, n_estimators=150, subsample=0.9;, score=-2256224899.468 total time=  25.8s\n",
      "[CV 1/5] END learning_rate=0.2, max_depth=12, n_estimators=100, subsample=0.9;, score=-2199801959.883 total time=  19.6s\n",
      "[CV 5/5] END learning_rate=0.2, max_depth=12, n_estimators=100, subsample=0.9;, score=-2388861533.143 total time=  19.1s\n",
      "[CV 4/5] END learning_rate=0.2, max_depth=12, n_estimators=150, subsample=0.8;, score=-2258890377.119 total time=  27.9s\n",
      "[CV 3/5] END learning_rate=0.2, max_depth=12, n_estimators=150, subsample=0.9;, score=-2478943442.415 total time=  28.1s\n",
      "[CV 2/5] END learning_rate=0.2, max_depth=14, n_estimators=100, subsample=0.8;, score=-2622688938.045 total time=  21.7s\n",
      "[CV 4/5] END learning_rate=0.2, max_depth=14, n_estimators=100, subsample=0.8;, score=-2381553091.007 total time=  23.2s\n",
      "[CV 3/5] END learning_rate=0.2, max_depth=14, n_estimators=100, subsample=0.9;, score=-2602473364.585 total time=  22.3s\n",
      "[CV 2/5] END learning_rate=0.2, max_depth=14, n_estimators=150, subsample=0.8;, score=-2621608363.854 total time=  33.3s\n",
      "[CV 1/5] END learning_rate=0.2, max_depth=14, n_estimators=150, subsample=0.9;, score=-2326916425.921 total time=  33.6s\n",
      "[CV 5/5] END learning_rate=0.2, max_depth=14, n_estimators=150, subsample=0.9;, score=-2405892594.013 total time=  20.7s\n"
     ]
    },
    {
     "name": "stdout",
     "output_type": "stream",
     "text": [
      "[CV 3/5] END learning_rate=0.1, max_depth=4, n_estimators=100, subsample=0.8;, score=-2590239392.349 total time=   5.6s\n",
      "[CV 3/5] END learning_rate=0.1, max_depth=4, n_estimators=100, subsample=0.9;, score=-2520280703.095 total time=   6.6s\n",
      "[CV 2/5] END learning_rate=0.1, max_depth=4, n_estimators=150, subsample=0.8;, score=-2435177492.184 total time=   8.1s\n",
      "[CV 5/5] END learning_rate=0.1, max_depth=4, n_estimators=150, subsample=0.8;, score=-2553163925.669 total time=   9.1s\n",
      "[CV 4/5] END learning_rate=0.1, max_depth=4, n_estimators=150, subsample=0.9;, score=-2275522969.951 total time=   8.5s\n",
      "[CV 3/5] END learning_rate=0.1, max_depth=6, n_estimators=100, subsample=0.8;, score=-2323756873.560 total time=   8.2s\n",
      "[CV 2/5] END learning_rate=0.1, max_depth=6, n_estimators=100, subsample=0.9;, score=-2348886609.165 total time=   8.9s\n",
      "[CV 1/5] END learning_rate=0.1, max_depth=6, n_estimators=150, subsample=0.8;, score=-2054682986.545 total time=  12.9s\n",
      "[CV 5/5] END learning_rate=0.1, max_depth=6, n_estimators=150, subsample=0.8;, score=-2242700643.503 total time=  12.8s\n",
      "[CV 4/5] END learning_rate=0.1, max_depth=6, n_estimators=150, subsample=0.9;, score=-2051472093.444 total time=  14.0s\n",
      "[CV 3/5] END learning_rate=0.1, max_depth=8, n_estimators=100, subsample=0.8;, score=-2206005709.909 total time=  11.9s\n",
      "[CV 2/5] END learning_rate=0.1, max_depth=8, n_estimators=100, subsample=0.9;, score=-2286508870.382 total time=  12.5s\n",
      "[CV 1/5] END learning_rate=0.1, max_depth=8, n_estimators=150, subsample=0.8;, score=-1987109797.622 total time=  17.9s\n",
      "[CV 5/5] END learning_rate=0.1, max_depth=8, n_estimators=150, subsample=0.8;, score=-2147930292.823 total time=  19.4s\n",
      "[CV 4/5] END learning_rate=0.1, max_depth=8, n_estimators=150, subsample=0.9;, score=-1995755702.351 total time=  18.2s\n",
      "[CV 3/5] END learning_rate=0.1, max_depth=10, n_estimators=100, subsample=0.8;, score=-2256216462.929 total time=  15.7s\n",
      "[CV 2/5] END learning_rate=0.1, max_depth=10, n_estimators=100, subsample=0.9;, score=-2252395259.564 total time=  16.9s\n",
      "[CV 1/5] END learning_rate=0.1, max_depth=10, n_estimators=150, subsample=0.8;, score=-2019825858.404 total time=  25.6s\n",
      "[CV 5/5] END learning_rate=0.1, max_depth=10, n_estimators=150, subsample=0.8;, score=-2155302868.372 total time=  23.4s\n",
      "[CV 4/5] END learning_rate=0.1, max_depth=10, n_estimators=150, subsample=0.9;, score=-2078798464.498 total time=  23.2s\n",
      "[CV 5/5] END learning_rate=0.1, max_depth=12, n_estimators=100, subsample=0.8;, score=-2261434911.096 total time=  19.6s\n",
      "[CV 4/5] END learning_rate=0.1, max_depth=12, n_estimators=100, subsample=0.9;, score=-2118732263.243 total time=  19.8s\n",
      "[CV 3/5] END learning_rate=0.1, max_depth=12, n_estimators=150, subsample=0.8;, score=-2327557937.680 total time=  28.4s\n",
      "[CV 2/5] END learning_rate=0.1, max_depth=12, n_estimators=150, subsample=0.9;, score=-2329437179.554 total time=  29.9s\n",
      "[CV 5/5] END learning_rate=0.1, max_depth=12, n_estimators=150, subsample=0.9;, score=-2256507691.396 total time=  28.7s\n",
      "[CV 1/5] END learning_rate=0.1, max_depth=14, n_estimators=100, subsample=0.9;, score=-2193794901.060 total time=  23.2s\n",
      "[CV 5/5] END learning_rate=0.1, max_depth=14, n_estimators=100, subsample=0.9;, score=-2268504736.362 total time=  24.7s\n",
      "[CV 4/5] END learning_rate=0.1, max_depth=14, n_estimators=150, subsample=0.8;, score=-2250993609.283 total time=  33.5s\n",
      "[CV 3/5] END learning_rate=0.1, max_depth=14, n_estimators=150, subsample=0.9;, score=-2465525176.344 total time=  34.0s\n",
      "[CV 2/5] END learning_rate=0.2, max_depth=4, n_estimators=100, subsample=0.8;, score=-2420654602.171 total time=   5.1s\n",
      "[CV 4/5] END learning_rate=0.2, max_depth=4, n_estimators=100, subsample=0.8;, score=-2199368201.377 total time=   5.5s\n",
      "[CV 1/5] END learning_rate=0.2, max_depth=4, n_estimators=100, subsample=0.9;, score=-2333018941.094 total time=   5.3s\n",
      "[CV 3/5] END learning_rate=0.2, max_depth=4, n_estimators=100, subsample=0.9;, score=-2382621079.517 total time=   5.4s\n",
      "[CV 5/5] END learning_rate=0.2, max_depth=4, n_estimators=100, subsample=0.9;, score=-2518058714.922 total time=   5.5s\n",
      "[CV 3/5] END learning_rate=0.2, max_depth=4, n_estimators=150, subsample=0.8;, score=-2366117344.525 total time=   7.8s\n",
      "[CV 2/5] END learning_rate=0.2, max_depth=4, n_estimators=150, subsample=0.9;, score=-2338710224.982 total time=   8.0s\n",
      "[CV 1/5] END learning_rate=0.2, max_depth=6, n_estimators=100, subsample=0.8;, score=-2091452755.739 total time=   8.3s\n",
      "[CV 5/5] END learning_rate=0.2, max_depth=6, n_estimators=100, subsample=0.8;, score=-2285468235.454 total time=   9.3s\n",
      "[CV 4/5] END learning_rate=0.2, max_depth=6, n_estimators=100, subsample=0.9;, score=-2109717358.017 total time=   9.1s\n",
      "[CV 3/5] END learning_rate=0.2, max_depth=6, n_estimators=150, subsample=0.8;, score=-2293050078.342 total time=  12.4s\n",
      "[CV 2/5] END learning_rate=0.2, max_depth=6, n_estimators=150, subsample=0.9;, score=-2267349079.167 total time=  12.5s\n",
      "[CV 1/5] END learning_rate=0.2, max_depth=8, n_estimators=100, subsample=0.8;, score=-2043482209.805 total time=  11.6s\n",
      "[CV 4/5] END learning_rate=0.2, max_depth=8, n_estimators=100, subsample=0.8;, score=-2167383672.527 total time=  11.9s\n",
      "[CV 3/5] END learning_rate=0.2, max_depth=8, n_estimators=100, subsample=0.9;, score=-2297379643.710 total time=  11.9s\n",
      "[CV 2/5] END learning_rate=0.2, max_depth=8, n_estimators=150, subsample=0.8;, score=-2256394087.824 total time=  18.5s\n",
      "[CV 1/5] END learning_rate=0.2, max_depth=8, n_estimators=150, subsample=0.9;, score=-2072489950.234 total time=  17.2s\n",
      "[CV 5/5] END learning_rate=0.2, max_depth=8, n_estimators=150, subsample=0.9;, score=-2224988467.973 total time=  19.1s\n",
      "[CV 5/5] END learning_rate=0.2, max_depth=10, n_estimators=100, subsample=0.8;, score=-2330957110.302 total time=  15.9s\n",
      "[CV 4/5] END learning_rate=0.2, max_depth=10, n_estimators=100, subsample=0.9;, score=-2187090075.690 total time=  20.4s\n",
      "[CV 3/5] END learning_rate=0.2, max_depth=10, n_estimators=150, subsample=0.8;, score=-2386795225.395 total time=  26.2s\n",
      "[CV 2/5] END learning_rate=0.2, max_depth=10, n_estimators=150, subsample=0.9;, score=-2351100547.998 total time=  26.9s\n",
      "[CV 1/5] END learning_rate=0.2, max_depth=12, n_estimators=100, subsample=0.8;, score=-2313365620.437 total time=  21.1s\n",
      "[CV 3/5] END learning_rate=0.2, max_depth=12, n_estimators=100, subsample=0.8;, score=-2500574998.846 total time=  19.1s\n",
      "[CV 2/5] END learning_rate=0.2, max_depth=12, n_estimators=100, subsample=0.9;, score=-2459717721.523 total time=  19.1s\n",
      "[CV 1/5] END learning_rate=0.2, max_depth=12, n_estimators=150, subsample=0.8;, score=-2311026581.598 total time=  28.3s\n",
      "[CV 5/5] END learning_rate=0.2, max_depth=12, n_estimators=150, subsample=0.8;, score=-2398967459.607 total time=  27.4s\n",
      "[CV 4/5] END learning_rate=0.2, max_depth=12, n_estimators=150, subsample=0.9;, score=-2248806866.279 total time=  27.9s\n",
      "[CV 5/5] END learning_rate=0.2, max_depth=14, n_estimators=100, subsample=0.8;, score=-2425159832.256 total time=  23.2s\n",
      "[CV 4/5] END learning_rate=0.2, max_depth=14, n_estimators=100, subsample=0.9;, score=-2315814161.651 total time=  22.3s\n",
      "[CV 3/5] END learning_rate=0.2, max_depth=14, n_estimators=150, subsample=0.8;, score=-2566165688.879 total time=  32.9s\n",
      "[CV 2/5] END learning_rate=0.2, max_depth=14, n_estimators=150, subsample=0.9;, score=-2582060284.876 total time=  33.5s\n",
      "[CV 4/5] END learning_rate=0.1, max_depth=4, n_estimators=100, subsample=0.8;, score=-2404320802.929 total time=   5.5s\n",
      "[CV 2/5] END learning_rate=0.1, max_depth=4, n_estimators=100, subsample=0.9;, score=-2562905992.036 total time=   6.6s\n",
      "[CV 1/5] END learning_rate=0.1, max_depth=4, n_estimators=150, subsample=0.8;, score=-2355093824.737 total time=   8.2s\n",
      "[CV 1/5] END learning_rate=0.1, max_depth=4, n_estimators=150, subsample=0.9;, score=-2325256292.519 total time=   9.2s\n",
      "[CV 5/5] END learning_rate=0.1, max_depth=4, n_estimators=150, subsample=0.9;, score=-2589264004.424 total time=   8.4s\n",
      "[CV 4/5] END learning_rate=0.1, max_depth=6, n_estimators=100, subsample=0.8;, score=-2140815429.862 total time=   8.4s\n",
      "[CV 3/5] END learning_rate=0.1, max_depth=6, n_estimators=100, subsample=0.9;, score=-2372565424.117 total time=   8.8s\n",
      "[CV 2/5] END learning_rate=0.1, max_depth=6, n_estimators=150, subsample=0.8;, score=-2285869086.316 total time=  13.0s\n",
      "[CV 1/5] END learning_rate=0.1, max_depth=6, n_estimators=150, subsample=0.9;, score=-2076242690.885 total time=  13.4s\n",
      "[CV 5/5] END learning_rate=0.1, max_depth=6, n_estimators=150, subsample=0.9;, score=-2249324538.497 total time=  13.9s\n",
      "[CV 4/5] END learning_rate=0.1, max_depth=8, n_estimators=100, subsample=0.8;, score=-2055283732.904 total time=  11.9s\n",
      "[CV 3/5] END learning_rate=0.1, max_depth=8, n_estimators=100, subsample=0.9;, score=-2249641657.883 total time=  12.3s\n",
      "[CV 2/5] END learning_rate=0.1, max_depth=8, n_estimators=150, subsample=0.8;, score=-2185921004.577 total time=  18.2s\n",
      "[CV 1/5] END learning_rate=0.1, max_depth=8, n_estimators=150, subsample=0.9;, score=-1974196522.888 total time=  19.8s\n",
      "[CV 5/5] END learning_rate=0.1, max_depth=8, n_estimators=150, subsample=0.9;, score=-2157450911.330 total time=  18.4s\n",
      "[CV 4/5] END learning_rate=0.1, max_depth=10, n_estimators=100, subsample=0.8;, score=-2090948721.682 total time=  15.6s\n",
      "[CV 3/5] END learning_rate=0.1, max_depth=10, n_estimators=100, subsample=0.9;, score=-2285670450.385 total time=  16.9s\n",
      "[CV 2/5] END learning_rate=0.1, max_depth=10, n_estimators=150, subsample=0.8;, score=-2300078765.468 total time=  25.7s\n",
      "[CV 1/5] END learning_rate=0.1, max_depth=10, n_estimators=150, subsample=0.9;, score=-2034152433.522 total time=  23.8s\n",
      "[CV 5/5] END learning_rate=0.1, max_depth=10, n_estimators=150, subsample=0.9;, score=-2152633552.241 total time=  23.7s\n",
      "[CV 1/5] END learning_rate=0.1, max_depth=12, n_estimators=100, subsample=0.9;, score=-2122222598.370 total time=  20.1s\n",
      "[CV 5/5] END learning_rate=0.1, max_depth=12, n_estimators=100, subsample=0.9;, score=-2268390287.553 total time=  19.1s\n",
      "[CV 4/5] END learning_rate=0.1, max_depth=12, n_estimators=150, subsample=0.8;, score=-2175354025.251 total time=  28.3s\n",
      "[CV 3/5] END learning_rate=0.1, max_depth=12, n_estimators=150, subsample=0.9;, score=-2384221547.312 total time=  30.0s\n",
      "[CV 2/5] END learning_rate=0.1, max_depth=14, n_estimators=100, subsample=0.8;, score=-2457296332.972 total time=  22.5s\n",
      "[CV 4/5] END learning_rate=0.1, max_depth=14, n_estimators=100, subsample=0.8;, score=-2252251165.000 total time=  22.3s\n",
      "[CV 3/5] END learning_rate=0.1, max_depth=14, n_estimators=100, subsample=0.9;, score=-2473269914.507 total time=  24.7s\n",
      "[CV 2/5] END learning_rate=0.1, max_depth=14, n_estimators=150, subsample=0.8;, score=-2449954894.062 total time=  33.3s\n",
      "[CV 1/5] END learning_rate=0.1, max_depth=14, n_estimators=150, subsample=0.9;, score=-2187130543.880 total time=  34.1s\n",
      "[CV 5/5] END learning_rate=0.1, max_depth=14, n_estimators=150, subsample=0.9;, score=-2262718591.765 total time=  34.1s\n",
      "[CV 4/5] END learning_rate=0.2, max_depth=4, n_estimators=150, subsample=0.8;, score=-2133795821.392 total time=   7.9s\n",
      "[CV 3/5] END learning_rate=0.2, max_depth=4, n_estimators=150, subsample=0.9;, score=-2310875877.711 total time=   8.1s\n",
      "[CV 2/5] END learning_rate=0.2, max_depth=6, n_estimators=100, subsample=0.8;, score=-2242611669.242 total time=   8.5s\n",
      "[CV 1/5] END learning_rate=0.2, max_depth=6, n_estimators=100, subsample=0.9;, score=-2104418371.023 total time=   9.7s\n",
      "[CV 5/5] END learning_rate=0.2, max_depth=6, n_estimators=100, subsample=0.9;, score=-2289871983.567 total time=   8.6s\n",
      "[CV 4/5] END learning_rate=0.2, max_depth=6, n_estimators=150, subsample=0.8;, score=-2098631129.284 total time=  12.3s\n",
      "[CV 3/5] END learning_rate=0.2, max_depth=6, n_estimators=150, subsample=0.9;, score=-2231543473.387 total time=  12.6s\n",
      "[CV 2/5] END learning_rate=0.2, max_depth=8, n_estimators=100, subsample=0.8;, score=-2277354984.202 total time=  11.6s\n",
      "[CV 1/5] END learning_rate=0.2, max_depth=8, n_estimators=100, subsample=0.9;, score=-2083341579.315 total time=  12.4s\n",
      "[CV 5/5] END learning_rate=0.2, max_depth=8, n_estimators=100, subsample=0.9;, score=-2237900590.794 total time=  11.9s\n",
      "[CV 4/5] END learning_rate=0.2, max_depth=8, n_estimators=150, subsample=0.8;, score=-2176666725.213 total time=  18.2s\n",
      "[CV 3/5] END learning_rate=0.2, max_depth=8, n_estimators=150, subsample=0.9;, score=-2293230381.103 total time=  17.2s\n",
      "[CV 2/5] END learning_rate=0.2, max_depth=10, n_estimators=100, subsample=0.8;, score=-2456714896.318 total time=  16.6s\n",
      "[CV 1/5] END learning_rate=0.2, max_depth=10, n_estimators=100, subsample=0.9;, score=-2092087054.857 total time=  16.2s\n",
      "[CV 5/5] END learning_rate=0.2, max_depth=10, n_estimators=100, subsample=0.9;, score=-2263568917.688 total time=  20.4s\n",
      "[CV 4/5] END learning_rate=0.2, max_depth=10, n_estimators=150, subsample=0.8;, score=-2152395664.947 total time=  26.4s\n",
      "[CV 3/5] END learning_rate=0.2, max_depth=10, n_estimators=150, subsample=0.9;, score=-2375500862.631 total time=  26.8s\n",
      "[CV 2/5] END learning_rate=0.2, max_depth=12, n_estimators=100, subsample=0.8;, score=-2485041210.124 total time=  21.0s\n",
      "[CV 4/5] END learning_rate=0.2, max_depth=12, n_estimators=100, subsample=0.8;, score=-2260663629.891 total time=  19.1s\n",
      "[CV 3/5] END learning_rate=0.2, max_depth=12, n_estimators=100, subsample=0.9;, score=-2481175677.863 total time=  19.2s\n",
      "[CV 2/5] END learning_rate=0.2, max_depth=12, n_estimators=150, subsample=0.8;, score=-2482536079.746 total time=  28.2s\n",
      "[CV 1/5] END learning_rate=0.2, max_depth=12, n_estimators=150, subsample=0.9;, score=-2200337844.245 total time=  27.8s\n",
      "[CV 5/5] END learning_rate=0.2, max_depth=12, n_estimators=150, subsample=0.9;, score=-2382859296.689 total time=  27.5s\n",
      "[CV 1/5] END learning_rate=0.2, max_depth=14, n_estimators=100, subsample=0.9;, score=-2327134881.432 total time=  23.8s\n",
      "[CV 5/5] END learning_rate=0.2, max_depth=14, n_estimators=100, subsample=0.9;, score=-2407075910.654 total time=  22.2s\n",
      "[CV 4/5] END learning_rate=0.2, max_depth=14, n_estimators=150, subsample=0.8;, score=-2380845932.721 total time=  33.4s\n",
      "[CV 3/5] END learning_rate=0.2, max_depth=14, n_estimators=150, subsample=0.9;, score=-2602290072.351 total time=  33.2s\n"
     ]
    }
   ],
   "source": [
    "x_test"
   ]
  },
  {
   "cell_type": "code",
   "execution_count": null,
   "id": "7166427c",
   "metadata": {},
   "outputs": [],
   "source": []
  }
 ],
 "metadata": {
  "kernelspec": {
   "display_name": "Python 3 (ipykernel)",
   "language": "python",
   "name": "python3"
  },
  "language_info": {
   "codemirror_mode": {
    "name": "ipython",
    "version": 3
   },
   "file_extension": ".py",
   "mimetype": "text/x-python",
   "name": "python",
   "nbconvert_exporter": "python",
   "pygments_lexer": "ipython3",
   "version": "3.9.7"
  }
 },
 "nbformat": 4,
 "nbformat_minor": 5
}
